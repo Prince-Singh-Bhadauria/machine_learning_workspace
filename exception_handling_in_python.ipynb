{
 "cells": [
  {
   "cell_type": "markdown",
   "metadata": {},
   "source": [
    "# Exceptions\n",
    "An exception is a python object that represents an error.\n",
    "while designing a program, a programmer may anticipate 'erroneous situations' thatg may arise during its execution and can address them by including appropriate code to handle that exception."
   ]
  },
  {
   "cell_type": "markdown",
   "metadata": {},
   "source": [
    "# 1. Raising EXCEPTIONS"
   ]
  },
  {
   "cell_type": "code",
   "execution_count": 4,
   "metadata": {},
   "outputs": [
    {
     "ename": "Exception",
     "evalue": "OOPS!! An Exception has occurred",
     "output_type": "error",
     "traceback": [
      "\u001b[0;31m---------------------------------------------------------------------------\u001b[0m",
      "\u001b[0;31mException\u001b[0m                                 Traceback (most recent call last)",
      "\u001b[0;32m<ipython-input-4-27688ff73e31>\u001b[0m in \u001b[0;36m<module>\u001b[0;34m\u001b[0m\n\u001b[0;32m----> 1\u001b[0;31m \u001b[0;32mraise\u001b[0m \u001b[0mException\u001b[0m \u001b[0;34m(\u001b[0m\u001b[0;34m'OOPS!! An Exception has occurred'\u001b[0m\u001b[0;34m)\u001b[0m   \u001b[0;31m# Syntax: raise Exception (<name>)\u001b[0m\u001b[0;34m\u001b[0m\u001b[0;34m\u001b[0m\u001b[0m\n\u001b[0m",
      "\u001b[0;31mException\u001b[0m: OOPS!! An Exception has occurred"
     ]
    }
   ],
   "source": [
    "raise Exception ('OOPS!! An Exception has occurred')   # Syntax: raise Exception (<name>) "
   ]
  },
  {
   "cell_type": "code",
   "execution_count": 6,
   "metadata": {},
   "outputs": [
    {
     "ename": "IndexError",
     "evalue": "INDEX ERROR IS CALLED",
     "output_type": "error",
     "traceback": [
      "\u001b[0;31m---------------------------------------------------------------------------\u001b[0m",
      "\u001b[0;31mIndexError\u001b[0m                                Traceback (most recent call last)",
      "\u001b[0;32m<ipython-input-6-7349b48efb6b>\u001b[0m in \u001b[0;36m<module>\u001b[0;34m\u001b[0m\n\u001b[1;32m      2\u001b[0m \u001b[0mlength\u001b[0m \u001b[0;34m=\u001b[0m \u001b[0;36m10\u001b[0m\u001b[0;34m\u001b[0m\u001b[0;34m\u001b[0m\u001b[0m\n\u001b[1;32m      3\u001b[0m \u001b[0;32mif\u001b[0m \u001b[0mlength\u001b[0m \u001b[0;34m>\u001b[0m \u001b[0mlen\u001b[0m\u001b[0;34m(\u001b[0m\u001b[0mnumbers\u001b[0m\u001b[0;34m)\u001b[0m\u001b[0;34m:\u001b[0m\u001b[0;34m\u001b[0m\u001b[0;34m\u001b[0m\u001b[0m\n\u001b[0;32m----> 4\u001b[0;31m     \u001b[0;32mraise\u001b[0m \u001b[0mIndexError\u001b[0m\u001b[0;34m(\u001b[0m\u001b[0;34m'INDEX ERROR IS CALLED'\u001b[0m\u001b[0;34m)\u001b[0m\u001b[0;34m\u001b[0m\u001b[0;34m\u001b[0m\u001b[0m\n\u001b[0m\u001b[1;32m      5\u001b[0m     \u001b[0mprint\u001b[0m\u001b[0;34m(\u001b[0m\u001b[0;34m'No EXCEPTION'\u001b[0m\u001b[0;34m)\u001b[0m\u001b[0;34m\u001b[0m\u001b[0;34m\u001b[0m\u001b[0m\n\u001b[1;32m      6\u001b[0m \u001b[0;32melse\u001b[0m\u001b[0;34m:\u001b[0m\u001b[0;34m\u001b[0m\u001b[0;34m\u001b[0m\u001b[0m\n",
      "\u001b[0;31mIndexError\u001b[0m: INDEX ERROR IS CALLED"
     ]
    }
   ],
   "source": [
    "numbers = [ 40,50,60,70,80]\n",
    "length = 10\n",
    "if length > len(numbers):\n",
    "    raise IndexError('INDEX ERROR IS CALLED')\n",
    "    print('No EXCEPTION')\n",
    "else:\n",
    "    print(length)"
   ]
  },
  {
   "cell_type": "markdown",
   "metadata": {},
   "source": [
    "# 1.1 Built-in exceptions in Python\n"
   ]
  },
  {
   "cell_type": "code",
   "execution_count": 20,
   "metadata": {},
   "outputs": [
    {
     "ename": "SyntaxError",
     "evalue": "SYNTAX ERROR IS CALLED (<string>)",
     "output_type": "error",
     "traceback": [
      "Traceback \u001b[0;36m(most recent call last)\u001b[0m:\n",
      "  File \u001b[1;32m\"/home/prince_singh/anaconda3/lib/python3.8/site-packages/IPython/core/interactiveshell.py\"\u001b[0m, line \u001b[1;32m3418\u001b[0m, in \u001b[1;35mrun_code\u001b[0m\n    exec(code_obj, self.user_global_ns, self.user_ns)\n",
      "\u001b[0;36m  File \u001b[0;32m\"<ipython-input-20-d2b4789f179f>\"\u001b[0;36m, line \u001b[0;32m1\u001b[0;36m, in \u001b[0;35m<module>\u001b[0;36m\u001b[0m\n\u001b[0;31m    raise SyntaxError('SYNTAX ERROR IS CALLED')\u001b[0m\n",
      "\u001b[0;36m  File \u001b[0;32m\"<string>\"\u001b[0;36m, line \u001b[0;32munknown\u001b[0m\n\u001b[0;31mSyntaxError\u001b[0m\u001b[0;31m:\u001b[0m SYNTAX ERROR IS CALLED\n"
     ]
    }
   ],
   "source": [
    "raise SyntaxError('SYNTAX ERROR IS CALLED') \n",
    "# It is raised when there is an error in the syntax of the Python Code."
   ]
  },
  {
   "cell_type": "code",
   "execution_count": 21,
   "metadata": {},
   "outputs": [
    {
     "ename": "ValueError",
     "evalue": "VALUE ERROR IS CALLED",
     "output_type": "error",
     "traceback": [
      "\u001b[0;31m---------------------------------------------------------------------------\u001b[0m",
      "\u001b[0;31mValueError\u001b[0m                                Traceback (most recent call last)",
      "\u001b[0;32m<ipython-input-21-2c0f25b3d34f>\u001b[0m in \u001b[0;36m<module>\u001b[0;34m\u001b[0m\n\u001b[0;32m----> 1\u001b[0;31m \u001b[0;32mraise\u001b[0m \u001b[0mValueError\u001b[0m\u001b[0;34m(\u001b[0m\u001b[0;34m'VALUE ERROR IS CALLED'\u001b[0m\u001b[0;34m)\u001b[0m\u001b[0;34m\u001b[0m\u001b[0;34m\u001b[0m\u001b[0m\n\u001b[0m\u001b[1;32m      2\u001b[0m \u001b[0;31m# It is raised when a built-in method or operation receives an argument\u001b[0m\u001b[0;34m\u001b[0m\u001b[0;34m\u001b[0m\u001b[0;34m\u001b[0m\u001b[0m\n\u001b[1;32m      3\u001b[0m \u001b[0;31m# that has the right data type but mismatched or inappropriate values.\u001b[0m\u001b[0;34m\u001b[0m\u001b[0;34m\u001b[0m\u001b[0;34m\u001b[0m\u001b[0m\n",
      "\u001b[0;31mValueError\u001b[0m: VALUE ERROR IS CALLED"
     ]
    }
   ],
   "source": [
    "raise ValueError('VALUE ERROR IS CALLED')\n",
    "# It is raised when a built-in method or operation receives an argument \n",
    "# that has the right data type but mismatched or inappropriate values."
   ]
  },
  {
   "cell_type": "code",
   "execution_count": 22,
   "metadata": {},
   "outputs": [
    {
     "ename": "OSError",
     "evalue": "OS ERROR IS CALLED",
     "output_type": "error",
     "traceback": [
      "\u001b[0;31m---------------------------------------------------------------------------\u001b[0m",
      "\u001b[0;31mOSError\u001b[0m                                   Traceback (most recent call last)",
      "\u001b[0;32m<ipython-input-22-ed925c6bb6e4>\u001b[0m in \u001b[0;36m<module>\u001b[0;34m\u001b[0m\n\u001b[0;32m----> 1\u001b[0;31m \u001b[0;32mraise\u001b[0m \u001b[0mOSError\u001b[0m\u001b[0;34m(\u001b[0m\u001b[0;34m'OS ERROR IS CALLED'\u001b[0m\u001b[0;34m)\u001b[0m\u001b[0;34m\u001b[0m\u001b[0;34m\u001b[0m\u001b[0m\n\u001b[0m\u001b[1;32m      2\u001b[0m \u001b[0;31m#  It is raised when the file specified in a program statement cannot be opened.\u001b[0m\u001b[0;34m\u001b[0m\u001b[0;34m\u001b[0m\u001b[0;34m\u001b[0m\u001b[0m\n",
      "\u001b[0;31mOSError\u001b[0m: OS ERROR IS CALLED"
     ]
    }
   ],
   "source": [
    "raise OSError('OS ERROR IS CALLED')\n",
    "#  It is raised when the file specified in a program statement cannot be opened."
   ]
  },
  {
   "cell_type": "code",
   "execution_count": 23,
   "metadata": {},
   "outputs": [
    {
     "ename": "KeyboardInterrupt",
     "evalue": "Keyboard Interrupt is called",
     "output_type": "error",
     "traceback": [
      "\u001b[0;31m---------------------------------------------------------------------------\u001b[0m",
      "\u001b[0;31mKeyboardInterrupt\u001b[0m                         Traceback (most recent call last)",
      "\u001b[0;32m<ipython-input-23-9635d14795a6>\u001b[0m in \u001b[0;36m<module>\u001b[0;34m\u001b[0m\n\u001b[0;32m----> 1\u001b[0;31m \u001b[0;32mraise\u001b[0m \u001b[0mKeyboardInterrupt\u001b[0m \u001b[0;34m(\u001b[0m\u001b[0;34m'Keyboard Interrupt is called'\u001b[0m\u001b[0;34m)\u001b[0m\u001b[0;34m\u001b[0m\u001b[0;34m\u001b[0m\u001b[0m\n\u001b[0m\u001b[1;32m      2\u001b[0m \u001b[0;31m# It is raised when the user accidentally hits the Delete or Esc key while executing a program due to which the\u001b[0m\u001b[0;34m\u001b[0m\u001b[0;34m\u001b[0m\u001b[0;34m\u001b[0m\u001b[0m\n\u001b[1;32m      3\u001b[0m \u001b[0;31m# normal flow of the program is interrupted.\u001b[0m\u001b[0;34m\u001b[0m\u001b[0;34m\u001b[0m\u001b[0;34m\u001b[0m\u001b[0m\n",
      "\u001b[0;31mKeyboardInterrupt\u001b[0m: Keyboard Interrupt is called"
     ]
    }
   ],
   "source": [
    "raise KeyboardInterrupt ('Keyboard Interrupt is called')\n",
    "# It is raised when the user accidentally hits the Delete or Esc key while executing a program due to which the \n",
    "# normal flow of the program is interrupted."
   ]
  },
  {
   "cell_type": "code",
   "execution_count": 17,
   "metadata": {},
   "outputs": [
    {
     "ename": "ImportError",
     "evalue": "IMPORT ERROR IS CALLED",
     "output_type": "error",
     "traceback": [
      "\u001b[0;31m---------------------------------------------------------------------------\u001b[0m",
      "\u001b[0;31mImportError\u001b[0m                               Traceback (most recent call last)",
      "\u001b[0;32m<ipython-input-17-2b4648c5a8f9>\u001b[0m in \u001b[0;36m<module>\u001b[0;34m\u001b[0m\n\u001b[0;32m----> 1\u001b[0;31m \u001b[0;32mraise\u001b[0m \u001b[0mImportError\u001b[0m \u001b[0;34m(\u001b[0m\u001b[0;34m'IMPORT ERROR IS CALLED'\u001b[0m\u001b[0;34m)\u001b[0m\u001b[0;34m\u001b[0m\u001b[0;34m\u001b[0m\u001b[0m\n\u001b[0m\u001b[1;32m      2\u001b[0m \u001b[0;31m# It is raised when the requested module definition is not found.\u001b[0m\u001b[0;34m\u001b[0m\u001b[0;34m\u001b[0m\u001b[0;34m\u001b[0m\u001b[0m\n",
      "\u001b[0;31mImportError\u001b[0m: IMPORT ERROR IS CALLED"
     ]
    }
   ],
   "source": [
    "raise ImportError ('IMPORT ERROR IS CALLED')\n",
    "# It is raised when the requested module definition is not found."
   ]
  },
  {
   "cell_type": "code",
   "execution_count": 18,
   "metadata": {},
   "outputs": [
    {
     "ename": "EOFError",
     "evalue": "EOF ERROR IS CALLED",
     "output_type": "error",
     "traceback": [
      "\u001b[0;31m---------------------------------------------------------------------------\u001b[0m",
      "\u001b[0;31mEOFError\u001b[0m                                  Traceback (most recent call last)",
      "\u001b[0;32m<ipython-input-18-41326bf4cbe8>\u001b[0m in \u001b[0;36m<module>\u001b[0;34m\u001b[0m\n\u001b[0;32m----> 1\u001b[0;31m \u001b[0;32mraise\u001b[0m \u001b[0mEOFError\u001b[0m \u001b[0;34m(\u001b[0m\u001b[0;34m'EOF ERROR IS CALLED'\u001b[0m\u001b[0;34m)\u001b[0m\u001b[0;34m\u001b[0m\u001b[0;34m\u001b[0m\u001b[0m\n\u001b[0m\u001b[1;32m      2\u001b[0m \u001b[0;31m# It is raised when the end of file condition is reached without reading any data by input().\u001b[0m\u001b[0;34m\u001b[0m\u001b[0;34m\u001b[0m\u001b[0;34m\u001b[0m\u001b[0m\n",
      "\u001b[0;31mEOFError\u001b[0m: EOF ERROR IS CALLED"
     ]
    }
   ],
   "source": [
    "raise EOFError ('EOF ERROR IS CALLED')\n",
    "# It is raised when the end of file condition is reached without reading any data by input()."
   ]
  },
  {
   "cell_type": "code",
   "execution_count": 20,
   "metadata": {},
   "outputs": [
    {
     "ename": "ZeroDivisionError",
     "evalue": "ZERO DIVISION ERROR IS CALLED",
     "output_type": "error",
     "traceback": [
      "\u001b[0;31m---------------------------------------------------------------------------\u001b[0m",
      "\u001b[0;31mZeroDivisionError\u001b[0m                         Traceback (most recent call last)",
      "\u001b[0;32m<ipython-input-20-ab1d53815662>\u001b[0m in \u001b[0;36m<module>\u001b[0;34m\u001b[0m\n\u001b[0;32m----> 1\u001b[0;31m \u001b[0;32mraise\u001b[0m \u001b[0mZeroDivisionError\u001b[0m \u001b[0;34m(\u001b[0m\u001b[0;34m'ZERO DIVISION ERROR IS CALLED'\u001b[0m\u001b[0;34m)\u001b[0m\u001b[0;34m\u001b[0m\u001b[0;34m\u001b[0m\u001b[0m\n\u001b[0m\u001b[1;32m      2\u001b[0m \u001b[0;31m# It is raised when the denominator in a division operation is Zero.\u001b[0m\u001b[0;34m\u001b[0m\u001b[0;34m\u001b[0m\u001b[0;34m\u001b[0m\u001b[0m\n",
      "\u001b[0;31mZeroDivisionError\u001b[0m: ZERO DIVISION ERROR IS CALLED"
     ]
    }
   ],
   "source": [
    "raise ZeroDivisionError ('ZERO DIVISION ERROR IS CALLED')\n",
    "# It is raised when the denominator in a division operation is Zero."
   ]
  },
  {
   "cell_type": "code",
   "execution_count": 21,
   "metadata": {},
   "outputs": [
    {
     "ename": "IndexError",
     "evalue": "INDEX ERROR IS CALLED",
     "output_type": "error",
     "traceback": [
      "\u001b[0;31m---------------------------------------------------------------------------\u001b[0m",
      "\u001b[0;31mIndexError\u001b[0m                                Traceback (most recent call last)",
      "\u001b[0;32m<ipython-input-21-8d30afefd237>\u001b[0m in \u001b[0;36m<module>\u001b[0;34m\u001b[0m\n\u001b[0;32m----> 1\u001b[0;31m \u001b[0;32mraise\u001b[0m \u001b[0mIndexError\u001b[0m \u001b[0;34m(\u001b[0m\u001b[0;34m'INDEX ERROR IS CALLED'\u001b[0m\u001b[0;34m)\u001b[0m\u001b[0;34m\u001b[0m\u001b[0;34m\u001b[0m\u001b[0m\n\u001b[0m\u001b[1;32m      2\u001b[0m \u001b[0;31m# It is raised when the index or subscript in a sequence is out of range.\u001b[0m\u001b[0;34m\u001b[0m\u001b[0;34m\u001b[0m\u001b[0;34m\u001b[0m\u001b[0m\n",
      "\u001b[0;31mIndexError\u001b[0m: INDEX ERROR IS CALLED"
     ]
    }
   ],
   "source": [
    "raise IndexError ('INDEX ERROR IS CALLED')\n",
    "# It is raised when the index or subscript in a sequence is out of range."
   ]
  },
  {
   "cell_type": "code",
   "execution_count": 22,
   "metadata": {},
   "outputs": [
    {
     "ename": "NameError",
     "evalue": "NAME ERROR IS CALLED",
     "output_type": "error",
     "traceback": [
      "\u001b[0;31m---------------------------------------------------------------------------\u001b[0m",
      "\u001b[0;31mNameError\u001b[0m                                 Traceback (most recent call last)",
      "\u001b[0;32m<ipython-input-22-7da0333bc4fc>\u001b[0m in \u001b[0;36m<module>\u001b[0;34m\u001b[0m\n\u001b[0;32m----> 1\u001b[0;31m \u001b[0;32mraise\u001b[0m \u001b[0mNameError\u001b[0m \u001b[0;34m(\u001b[0m\u001b[0;34m'NAME ERROR IS CALLED'\u001b[0m\u001b[0;34m)\u001b[0m\u001b[0;34m\u001b[0m\u001b[0;34m\u001b[0m\u001b[0m\n\u001b[0m\u001b[1;32m      2\u001b[0m \u001b[0;31m# It is raised when a local or global variable name is not defined.\u001b[0m\u001b[0;34m\u001b[0m\u001b[0;34m\u001b[0m\u001b[0;34m\u001b[0m\u001b[0m\n",
      "\u001b[0;31mNameError\u001b[0m: NAME ERROR IS CALLED"
     ]
    }
   ],
   "source": [
    "raise NameError ('NAME ERROR IS CALLED')\n",
    "# It is raised when a local or global variable name is not defined."
   ]
  },
  {
   "cell_type": "code",
   "execution_count": 23,
   "metadata": {},
   "outputs": [
    {
     "ename": "IndentationError",
     "evalue": "INDENTATION ERROR IS CALLED (<string>)",
     "output_type": "error",
     "traceback": [
      "Traceback \u001b[0;36m(most recent call last)\u001b[0m:\n",
      "  File \u001b[1;32m\"/home/prince_singh/anaconda3/lib/python3.8/site-packages/IPython/core/interactiveshell.py\"\u001b[0m, line \u001b[1;32m3418\u001b[0m, in \u001b[1;35mrun_code\u001b[0m\n    exec(code_obj, self.user_global_ns, self.user_ns)\n",
      "\u001b[0;36m  File \u001b[0;32m\"<ipython-input-23-1c3e163f6a62>\"\u001b[0;36m, line \u001b[0;32m1\u001b[0;36m, in \u001b[0;35m<module>\u001b[0;36m\u001b[0m\n\u001b[0;31m    raise IndentationError ('INDENTATION ERROR IS CALLED')\u001b[0m\n",
      "\u001b[0;36m  File \u001b[0;32m\"<string>\"\u001b[0;36m, line \u001b[0;32munknown\u001b[0m\n\u001b[0;31mIndentationError\u001b[0m\u001b[0;31m:\u001b[0m INDENTATION ERROR IS CALLED\n"
     ]
    }
   ],
   "source": [
    "raise IndentationError ('INDENTATION ERROR IS CALLED')\n",
    "# It is raised due to incorrect indentation in the program code."
   ]
  },
  {
   "cell_type": "code",
   "execution_count": 24,
   "metadata": {},
   "outputs": [
    {
     "ename": "TypeError",
     "evalue": "TYPE ERROR IS CALLED",
     "output_type": "error",
     "traceback": [
      "\u001b[0;31m---------------------------------------------------------------------------\u001b[0m",
      "\u001b[0;31mTypeError\u001b[0m                                 Traceback (most recent call last)",
      "\u001b[0;32m<ipython-input-24-1a55a5f44581>\u001b[0m in \u001b[0;36m<module>\u001b[0;34m\u001b[0m\n\u001b[0;32m----> 1\u001b[0;31m \u001b[0;32mraise\u001b[0m \u001b[0mTypeError\u001b[0m \u001b[0;34m(\u001b[0m\u001b[0;34m'TYPE ERROR IS CALLED'\u001b[0m\u001b[0;34m)\u001b[0m\u001b[0;34m\u001b[0m\u001b[0;34m\u001b[0m\u001b[0m\n\u001b[0m\u001b[1;32m      2\u001b[0m \u001b[0;31m# It is raised when an operator is supplied with a value of incorrect datatype.\u001b[0m\u001b[0;34m\u001b[0m\u001b[0;34m\u001b[0m\u001b[0;34m\u001b[0m\u001b[0m\n",
      "\u001b[0;31mTypeError\u001b[0m: TYPE ERROR IS CALLED"
     ]
    }
   ],
   "source": [
    "raise TypeError ('TYPE ERROR IS CALLED')\n",
    "# It is raised when an operator is supplied with a value of incorrect datatype."
   ]
  },
  {
   "cell_type": "code",
   "execution_count": 26,
   "metadata": {},
   "outputs": [
    {
     "ename": "OverflowError",
     "evalue": "OVER FLOW ERROR IS CALLED",
     "output_type": "error",
     "traceback": [
      "\u001b[0;31m---------------------------------------------------------------------------\u001b[0m",
      "\u001b[0;31mOverflowError\u001b[0m                             Traceback (most recent call last)",
      "\u001b[0;32m<ipython-input-26-10ebe262b9f0>\u001b[0m in \u001b[0;36m<module>\u001b[0;34m\u001b[0m\n\u001b[0;32m----> 1\u001b[0;31m \u001b[0;32mraise\u001b[0m \u001b[0mOverflowError\u001b[0m\u001b[0;34m(\u001b[0m\u001b[0;34m\"OVER FLOW ERROR IS CALLED\"\u001b[0m\u001b[0;34m)\u001b[0m\u001b[0;34m\u001b[0m\u001b[0;34m\u001b[0m\u001b[0m\n\u001b[0m\u001b[1;32m      2\u001b[0m \u001b[0;31m# It is raised when the result of a calculation exceeds the maximum limit for numeric datatype.\u001b[0m\u001b[0;34m\u001b[0m\u001b[0;34m\u001b[0m\u001b[0;34m\u001b[0m\u001b[0m\n",
      "\u001b[0;31mOverflowError\u001b[0m: OVER FLOW ERROR IS CALLED"
     ]
    }
   ],
   "source": [
    "raise OverflowError(\"OVER FLOW ERROR IS CALLED\")\n",
    "# It is raised when the result of a calculation exceeds the maximum limit for numeric datatype."
   ]
  },
  {
   "cell_type": "markdown",
   "metadata": {},
   "source": [
    "# 1.2. assert () or AssertionError\n",
    "used to test an expression in the program code.\n",
    "if the result after testing comes false, then the exception is raised.\n",
    "generally used to check for valid input."
   ]
  },
  {
   "cell_type": "code",
   "execution_count": 4,
   "metadata": {},
   "outputs": [
    {
     "name": "stdout",
     "output_type": "stream",
     "text": [
      "use of assert statement\n",
      "enter a number : 12\n",
      "144\n",
      "None\n"
     ]
    }
   ],
   "source": [
    "print('use of assert statement')\n",
    "number = int(input('enter a number : '))\n",
    "def negativecheck(number):\n",
    "    assert(number >= 0), 'OOPS! Negative Number'\n",
    "    print(number*number)\n",
    "print(negativecheck(number))"
   ]
  },
  {
   "cell_type": "code",
   "execution_count": 6,
   "metadata": {},
   "outputs": [
    {
     "name": "stdout",
     "output_type": "stream",
     "text": [
      "use of assert statement\n",
      "enter a number : -12\n"
     ]
    },
    {
     "ename": "AssertionError",
     "evalue": "OOPS! Negative Number",
     "output_type": "error",
     "traceback": [
      "\u001b[0;31m---------------------------------------------------------------------------\u001b[0m",
      "\u001b[0;31mAssertionError\u001b[0m                            Traceback (most recent call last)",
      "\u001b[0;32m<ipython-input-6-a21ebbcc8f1b>\u001b[0m in \u001b[0;36m<module>\u001b[0;34m\u001b[0m\n\u001b[1;32m      4\u001b[0m     \u001b[0;32massert\u001b[0m\u001b[0;34m(\u001b[0m\u001b[0mnumber\u001b[0m \u001b[0;34m>=\u001b[0m \u001b[0;36m0\u001b[0m\u001b[0;34m)\u001b[0m\u001b[0;34m,\u001b[0m \u001b[0;34m'OOPS! Negative Number'\u001b[0m\u001b[0;34m\u001b[0m\u001b[0;34m\u001b[0m\u001b[0m\n\u001b[1;32m      5\u001b[0m     \u001b[0mprint\u001b[0m\u001b[0;34m(\u001b[0m\u001b[0mnumber\u001b[0m\u001b[0;34m*\u001b[0m\u001b[0mnumber\u001b[0m\u001b[0;34m)\u001b[0m\u001b[0;34m\u001b[0m\u001b[0;34m\u001b[0m\u001b[0m\n\u001b[0;32m----> 6\u001b[0;31m \u001b[0mprint\u001b[0m\u001b[0;34m(\u001b[0m\u001b[0mnegativecheck\u001b[0m\u001b[0;34m(\u001b[0m\u001b[0mnumber\u001b[0m\u001b[0;34m)\u001b[0m\u001b[0;34m)\u001b[0m\u001b[0;34m\u001b[0m\u001b[0;34m\u001b[0m\u001b[0m\n\u001b[0m",
      "\u001b[0;32m<ipython-input-6-a21ebbcc8f1b>\u001b[0m in \u001b[0;36mnegativecheck\u001b[0;34m(number)\u001b[0m\n\u001b[1;32m      2\u001b[0m \u001b[0mnumber\u001b[0m \u001b[0;34m=\u001b[0m \u001b[0mint\u001b[0m\u001b[0;34m(\u001b[0m\u001b[0minput\u001b[0m\u001b[0;34m(\u001b[0m\u001b[0;34m'enter a number : '\u001b[0m\u001b[0;34m)\u001b[0m\u001b[0;34m)\u001b[0m\u001b[0;34m\u001b[0m\u001b[0;34m\u001b[0m\u001b[0m\n\u001b[1;32m      3\u001b[0m \u001b[0;32mdef\u001b[0m \u001b[0mnegativecheck\u001b[0m\u001b[0;34m(\u001b[0m\u001b[0mnumber\u001b[0m\u001b[0;34m)\u001b[0m\u001b[0;34m:\u001b[0m\u001b[0;34m\u001b[0m\u001b[0;34m\u001b[0m\u001b[0m\n\u001b[0;32m----> 4\u001b[0;31m     \u001b[0;32massert\u001b[0m\u001b[0;34m(\u001b[0m\u001b[0mnumber\u001b[0m \u001b[0;34m>=\u001b[0m \u001b[0;36m0\u001b[0m\u001b[0;34m)\u001b[0m\u001b[0;34m,\u001b[0m \u001b[0;34m'OOPS! Negative Number'\u001b[0m\u001b[0;34m\u001b[0m\u001b[0;34m\u001b[0m\u001b[0m\n\u001b[0m\u001b[1;32m      5\u001b[0m     \u001b[0mprint\u001b[0m\u001b[0;34m(\u001b[0m\u001b[0mnumber\u001b[0m\u001b[0;34m*\u001b[0m\u001b[0mnumber\u001b[0m\u001b[0;34m)\u001b[0m\u001b[0;34m\u001b[0m\u001b[0;34m\u001b[0m\u001b[0m\n\u001b[1;32m      6\u001b[0m \u001b[0mprint\u001b[0m\u001b[0;34m(\u001b[0m\u001b[0mnegativecheck\u001b[0m\u001b[0;34m(\u001b[0m\u001b[0mnumber\u001b[0m\u001b[0;34m)\u001b[0m\u001b[0;34m)\u001b[0m\u001b[0;34m\u001b[0m\u001b[0;34m\u001b[0m\u001b[0m\n",
      "\u001b[0;31mAssertionError\u001b[0m: OOPS! Negative Number"
     ]
    }
   ],
   "source": [
    "print('use of assert statement')\n",
    "number = int(input('enter a number : '))\n",
    "def negativecheck(number):\n",
    "    assert(number >= 0), 'OOPS! Negative Number'\n",
    "    print(number*number)\n",
    "print(negativecheck(number))"
   ]
  },
  {
   "cell_type": "markdown",
   "metadata": {},
   "source": [
    "# 2. Handling Exception"
   ]
  },
  {
   "cell_type": "markdown",
   "metadata": {},
   "source": [
    "# 2.1. try + except block\n",
    "\n",
    "Syntax:-\n",
    "try: \n",
    "    [program statements where exceptions might occur]\n",
    "except <Name_of_error> :\n",
    "    [ code for exception handling if the exception(name of error) is encountered]\n",
    "    \n",
    "\n",
    "     "
   ]
  },
  {
   "cell_type": "code",
   "execution_count": 7,
   "metadata": {},
   "outputs": [
    {
     "name": "stdout",
     "output_type": "stream",
     "text": [
      "practicing for try block\n",
      "Enter the denominator0\n",
      "Denominator as Zero.. not allowed\n",
      "OUTSIDE try...except block\n"
     ]
    }
   ],
   "source": [
    "print('practicing for try block')\n",
    "try: \n",
    "    numerator = 50\n",
    "    denom = int(input('Enter the denominator'))\n",
    "    quotient = numerator/denom\n",
    "    print('Division is performed successfully')\n",
    "except ZeroDivisionError:\n",
    "    print(\"Denominator as Zero.. not allowed\")\n",
    "print('OUTSIDE try...except block')"
   ]
  },
  {
   "cell_type": "code",
   "execution_count": 9,
   "metadata": {},
   "outputs": [
    {
     "name": "stdout",
     "output_type": "stream",
     "text": [
      "practicing for try block\n",
      "Enter the denominator 2\n",
      "Division is performed successfully\n",
      "OUTSIDE try...except block\n"
     ]
    }
   ],
   "source": [
    "print('practicing for try block')\n",
    "try: \n",
    "    numerator = 50\n",
    "    denom = int(input('Enter the denominator '))\n",
    "    quotient = numerator/denom\n",
    "    print('Division is performed successfully')\n",
    "except ZeroDivisionError:\n",
    "    print(\"Denominator as Zero.. not allowed\")\n",
    "print('OUTSIDE try...except block')"
   ]
  },
  {
   "cell_type": "markdown",
   "metadata": {},
   "source": [
    "# 2.1.1 try with multiple except clauses"
   ]
  },
  {
   "cell_type": "code",
   "execution_count": 12,
   "metadata": {},
   "outputs": [
    {
     "name": "stdout",
     "output_type": "stream",
     "text": [
      "practicing for try block\n",
      "Enter the denominator23.4\n",
      "Only INTEGERS should be entered\n",
      "OUTSIDE try...except block\n"
     ]
    }
   ],
   "source": [
    "print('practicing for try block')\n",
    "try: \n",
    "    numerator = 50\n",
    "    denom = int(input('Enter the denominator'))\n",
    "    quotient = numerator/denom\n",
    "    print('Division is performed successfully')\n",
    "except ZeroDivisionError:\n",
    "    print(\"Denominator as Zero.. not allowed\")\n",
    "except ValueError:\n",
    "    print('Only INTEGERS should be entered')\n",
    "print('OUTSIDE try...except block')"
   ]
  },
  {
   "cell_type": "markdown",
   "metadata": {},
   "source": [
    "# 2.1.2. except without specifying an exception\n",
    "if an exception is raised for which no handler is created by the programmer, then such an exception can be handled by adding an except clause without specifing any exception."
   ]
  },
  {
   "cell_type": "code",
   "execution_count": 19,
   "metadata": {},
   "outputs": [
    {
     "name": "stdout",
     "output_type": "stream",
     "text": [
      "Handling exception without naming them\n",
      "Enter the denominator 23.4\n",
      "OOPS.... some EXCEPTION RAISED\n"
     ]
    }
   ],
   "source": [
    "print('Handling exception without naming them')\n",
    "try: \n",
    "    numerator = 50\n",
    "    denom = int(input('Enter the denominator '))\n",
    "    quotient = numerator/denom\n",
    "    print('Division is performed successfully')\n",
    "except ZeroDivisionError:\n",
    "    print(\"Denominator as Zero.. not allowed\")\n",
    "except:    \n",
    "    print('OOPS.... some EXCEPTION RAISED')"
   ]
  },
  {
   "cell_type": "markdown",
   "metadata": {},
   "source": [
    "# 2.1.3. try. . . except. . . else  CLAUSE\n",
    "An exception block will executed only if some exception is raised in the \"try\" block. But if there is no error then none of the \"except\" blocks will be executed.\n",
    "In this case, the statements inside the \"else\" clause will be executed."
   ]
  },
  {
   "cell_type": "code",
   "execution_count": 18,
   "metadata": {},
   "outputs": [
    {
     "name": "stdout",
     "output_type": "stream",
     "text": [
      "Handling exception using try. . . except. . .else\n",
      "Enter the denominator 23\n",
      "Division is performed successfully\n",
      "The result of Division operation is  2.1739130434782608\n"
     ]
    }
   ],
   "source": [
    "print('Handling exception using try. . . except. . .else')\n",
    "try: \n",
    "    numerator = 50\n",
    "    denom = int(input('Enter the denominator '))\n",
    "    quotient = numerator/denom\n",
    "    print('Division is performed successfully')\n",
    "except ZeroDivisionError:\n",
    "    print(\"Denominator as Zero.. not allowed\")\n",
    "except ValueError:\n",
    "    print('Only INTEGERS should be entered')\n",
    "\n",
    "else:\n",
    "    print('The result of Division operation is ', quotient)"
   ]
  },
  {
   "cell_type": "markdown",
   "metadata": {},
   "source": [
    "# 2.1.4. try. . . except. . . else. . . finally. . .  CLAUSE\n",
    "The statements inside finally block are always executed regardless of whether an exception has occurred in the try block or not.\n",
    "If used, \"finally\" should always be placed at the end of \"try\" clause, after all \"except\" blocks and the \"else\" block.\n",
    "It is a common practice to use \"finally\" clause while working with files to ensure that the file object is closed.\n",
    "\n",
    "Note:\n",
    " even if there is an exception which is not being handled the finally will executed. That is, the exception is thrown by compiler after execution of finally statement"
   ]
  },
  {
   "cell_type": "code",
   "execution_count": 17,
   "metadata": {},
   "outputs": [
    {
     "name": "stdout",
     "output_type": "stream",
     "text": [
      "Handling exception using try. . . except. . . else. . . finally\n",
      "Enter the denominator 2\n",
      "Division is performed successfully\n",
      "The result of Division operation is  25.0\n",
      "OVER AND OUT\n"
     ]
    }
   ],
   "source": [
    "print('Handling exception using try. . . except. . . else. . . finally')\n",
    "try: \n",
    "    numerator = 50\n",
    "    denom = int(input('Enter the denominator '))\n",
    "    quotient = numerator/denom\n",
    "    print('Division is performed successfully')\n",
    "except ZeroDivisionError:\n",
    "    print(\"Denominator as Zero.. not allowed\")\n",
    "except ValueError:\n",
    "    print('Only INTEGERS should be entered')\n",
    "\n",
    "else:\n",
    "    print('The result of Division operation is ', quotient)\n",
    "\n",
    "finally :\n",
    "     print('OVER AND OUT')"
   ]
  },
  {
   "cell_type": "code",
   "execution_count": null,
   "metadata": {},
   "outputs": [],
   "source": []
  }
 ],
 "metadata": {
  "kernelspec": {
   "display_name": "Python 3",
   "language": "python",
   "name": "python3"
  },
  "language_info": {
   "codemirror_mode": {
    "name": "ipython",
    "version": 3
   },
   "file_extension": ".py",
   "mimetype": "text/x-python",
   "name": "python",
   "nbconvert_exporter": "python",
   "pygments_lexer": "ipython3",
   "version": "3.8.5"
  }
 },
 "nbformat": 4,
 "nbformat_minor": 4
}
