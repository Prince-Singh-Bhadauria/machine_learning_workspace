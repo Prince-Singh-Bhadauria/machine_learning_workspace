{
 "cells": [
  {
   "cell_type": "code",
   "execution_count": 75,
   "metadata": {},
   "outputs": [],
   "source": [
    "import pandas as pd\n",
    "import numpy as np\n",
    "import datetime\n",
    "import time"
   ]
  },
  {
   "cell_type": "code",
   "execution_count": 6,
   "metadata": {
    "collapsed": true
   },
   "outputs": [],
   "source": [
    "import matplotlib.pyplot as plt\n",
    "import seaborn as sns\n",
    "%matplotlib inline"
   ]
  },
  {
   "cell_type": "markdown",
   "metadata": {},
   "source": [
    "# knowing the data"
   ]
  },
  {
   "cell_type": "code",
   "execution_count": 13,
   "metadata": {},
   "outputs": [
    {
     "data": {
      "text/html": [
       "<div>\n",
       "<style scoped>\n",
       "    .dataframe tbody tr th:only-of-type {\n",
       "        vertical-align: middle;\n",
       "    }\n",
       "\n",
       "    .dataframe tbody tr th {\n",
       "        vertical-align: top;\n",
       "    }\n",
       "\n",
       "    .dataframe thead th {\n",
       "        text-align: right;\n",
       "    }\n",
       "</style>\n",
       "<table border=\"1\" class=\"dataframe\">\n",
       "  <thead>\n",
       "    <tr style=\"text-align: right;\">\n",
       "      <th></th>\n",
       "      <th>timestamp</th>\n",
       "      <th>visitorid</th>\n",
       "      <th>event</th>\n",
       "      <th>itemid</th>\n",
       "      <th>transactionid</th>\n",
       "    </tr>\n",
       "  </thead>\n",
       "  <tbody>\n",
       "    <tr>\n",
       "      <th>0</th>\n",
       "      <td>1433221332117</td>\n",
       "      <td>257597</td>\n",
       "      <td>view</td>\n",
       "      <td>355908</td>\n",
       "      <td>NaN</td>\n",
       "    </tr>\n",
       "    <tr>\n",
       "      <th>1</th>\n",
       "      <td>1433224214164</td>\n",
       "      <td>992329</td>\n",
       "      <td>view</td>\n",
       "      <td>248676</td>\n",
       "      <td>NaN</td>\n",
       "    </tr>\n",
       "    <tr>\n",
       "      <th>2</th>\n",
       "      <td>1433221999827</td>\n",
       "      <td>111016</td>\n",
       "      <td>view</td>\n",
       "      <td>318965</td>\n",
       "      <td>NaN</td>\n",
       "    </tr>\n",
       "    <tr>\n",
       "      <th>3</th>\n",
       "      <td>1433221955914</td>\n",
       "      <td>483717</td>\n",
       "      <td>view</td>\n",
       "      <td>253185</td>\n",
       "      <td>NaN</td>\n",
       "    </tr>\n",
       "    <tr>\n",
       "      <th>4</th>\n",
       "      <td>1433221337106</td>\n",
       "      <td>951259</td>\n",
       "      <td>view</td>\n",
       "      <td>367447</td>\n",
       "      <td>NaN</td>\n",
       "    </tr>\n",
       "    <tr>\n",
       "      <th>...</th>\n",
       "      <td>...</td>\n",
       "      <td>...</td>\n",
       "      <td>...</td>\n",
       "      <td>...</td>\n",
       "      <td>...</td>\n",
       "    </tr>\n",
       "    <tr>\n",
       "      <th>2756096</th>\n",
       "      <td>1438398785939</td>\n",
       "      <td>591435</td>\n",
       "      <td>view</td>\n",
       "      <td>261427</td>\n",
       "      <td>NaN</td>\n",
       "    </tr>\n",
       "    <tr>\n",
       "      <th>2756097</th>\n",
       "      <td>1438399813142</td>\n",
       "      <td>762376</td>\n",
       "      <td>view</td>\n",
       "      <td>115946</td>\n",
       "      <td>NaN</td>\n",
       "    </tr>\n",
       "    <tr>\n",
       "      <th>2756098</th>\n",
       "      <td>1438397820527</td>\n",
       "      <td>1251746</td>\n",
       "      <td>view</td>\n",
       "      <td>78144</td>\n",
       "      <td>NaN</td>\n",
       "    </tr>\n",
       "    <tr>\n",
       "      <th>2756099</th>\n",
       "      <td>1438398530703</td>\n",
       "      <td>1184451</td>\n",
       "      <td>view</td>\n",
       "      <td>283392</td>\n",
       "      <td>NaN</td>\n",
       "    </tr>\n",
       "    <tr>\n",
       "      <th>2756100</th>\n",
       "      <td>1438400163914</td>\n",
       "      <td>199536</td>\n",
       "      <td>view</td>\n",
       "      <td>152913</td>\n",
       "      <td>NaN</td>\n",
       "    </tr>\n",
       "  </tbody>\n",
       "</table>\n",
       "<p>2756101 rows × 5 columns</p>\n",
       "</div>"
      ],
      "text/plain": [
       "             timestamp  visitorid event  itemid  transactionid\n",
       "0        1433221332117     257597  view  355908            NaN\n",
       "1        1433224214164     992329  view  248676            NaN\n",
       "2        1433221999827     111016  view  318965            NaN\n",
       "3        1433221955914     483717  view  253185            NaN\n",
       "4        1433221337106     951259  view  367447            NaN\n",
       "...                ...        ...   ...     ...            ...\n",
       "2756096  1438398785939     591435  view  261427            NaN\n",
       "2756097  1438399813142     762376  view  115946            NaN\n",
       "2756098  1438397820527    1251746  view   78144            NaN\n",
       "2756099  1438398530703    1184451  view  283392            NaN\n",
       "2756100  1438400163914     199536  view  152913            NaN\n",
       "\n",
       "[2756101 rows x 5 columns]"
      ]
     },
     "execution_count": 13,
     "metadata": {},
     "output_type": "execute_result"
    }
   ],
   "source": [
    "events_df = pd.read_csv('events.csv')\n",
    "events_df"
   ]
  },
  {
   "cell_type": "code",
   "execution_count": 33,
   "metadata": {},
   "outputs": [
    {
     "data": {
      "text/plain": [
       "Index(['timestamp', 'visitorid', 'event', 'itemid', 'transactionid'], dtype='object')"
      ]
     },
     "execution_count": 33,
     "metadata": {},
     "output_type": "execute_result"
    }
   ],
   "source": [
    "events_df.keys()"
   ]
  },
  {
   "cell_type": "code",
   "execution_count": 12,
   "metadata": {},
   "outputs": [
    {
     "data": {
      "text/plain": [
       "array(['view', 'addtocart', 'transaction'], dtype=object)"
      ]
     },
     "execution_count": 12,
     "metadata": {},
     "output_type": "execute_result"
    }
   ],
   "source": [
    "events_df['event'].unique()"
   ]
  },
  {
   "cell_type": "code",
   "execution_count": 34,
   "metadata": {},
   "outputs": [
    {
     "data": {
      "text/plain": [
       "array([ 599528,  121688,  552148, ..., 1155978, 1050575,  855941])"
      ]
     },
     "execution_count": 34,
     "metadata": {},
     "output_type": "execute_result"
    }
   ],
   "source": [
    "events_df[events_df.transactionid.notnull()].visitorid.unique()    "
   ]
  },
  {
   "cell_type": "markdown",
   "metadata": {},
   "source": [
    "visitorid of thoes visitors who made transactions "
   ]
  },
  {
   "cell_type": "code",
   "execution_count": 29,
   "metadata": {},
   "outputs": [
    {
     "data": {
      "text/plain": [
       "array(['transaction'], dtype=object)"
      ]
     },
     "execution_count": 29,
     "metadata": {},
     "output_type": "execute_result"
    }
   ],
   "source": [
    "events_df[events_df.transactionid.notnull()].event.unique()"
   ]
  },
  {
   "cell_type": "markdown",
   "metadata": {},
   "source": [
    "'transaction' is recorded in event, whenever transactionid(purchase) is created"
   ]
  },
  {
   "cell_type": "code",
   "execution_count": 37,
   "metadata": {},
   "outputs": [],
   "source": [
    "category_df = pd.read_csv('category_tree.csv')"
   ]
  },
  {
   "cell_type": "code",
   "execution_count": 38,
   "metadata": {},
   "outputs": [
    {
     "data": {
      "text/html": [
       "<div>\n",
       "<style scoped>\n",
       "    .dataframe tbody tr th:only-of-type {\n",
       "        vertical-align: middle;\n",
       "    }\n",
       "\n",
       "    .dataframe tbody tr th {\n",
       "        vertical-align: top;\n",
       "    }\n",
       "\n",
       "    .dataframe thead th {\n",
       "        text-align: right;\n",
       "    }\n",
       "</style>\n",
       "<table border=\"1\" class=\"dataframe\">\n",
       "  <thead>\n",
       "    <tr style=\"text-align: right;\">\n",
       "      <th></th>\n",
       "      <th>categoryid</th>\n",
       "      <th>parentid</th>\n",
       "    </tr>\n",
       "  </thead>\n",
       "  <tbody>\n",
       "    <tr>\n",
       "      <th>0</th>\n",
       "      <td>1016</td>\n",
       "      <td>213.0</td>\n",
       "    </tr>\n",
       "    <tr>\n",
       "      <th>1</th>\n",
       "      <td>809</td>\n",
       "      <td>169.0</td>\n",
       "    </tr>\n",
       "    <tr>\n",
       "      <th>2</th>\n",
       "      <td>570</td>\n",
       "      <td>9.0</td>\n",
       "    </tr>\n",
       "    <tr>\n",
       "      <th>3</th>\n",
       "      <td>1691</td>\n",
       "      <td>885.0</td>\n",
       "    </tr>\n",
       "    <tr>\n",
       "      <th>4</th>\n",
       "      <td>536</td>\n",
       "      <td>1691.0</td>\n",
       "    </tr>\n",
       "    <tr>\n",
       "      <th>...</th>\n",
       "      <td>...</td>\n",
       "      <td>...</td>\n",
       "    </tr>\n",
       "    <tr>\n",
       "      <th>1664</th>\n",
       "      <td>49</td>\n",
       "      <td>1125.0</td>\n",
       "    </tr>\n",
       "    <tr>\n",
       "      <th>1665</th>\n",
       "      <td>1112</td>\n",
       "      <td>630.0</td>\n",
       "    </tr>\n",
       "    <tr>\n",
       "      <th>1666</th>\n",
       "      <td>1336</td>\n",
       "      <td>745.0</td>\n",
       "    </tr>\n",
       "    <tr>\n",
       "      <th>1667</th>\n",
       "      <td>689</td>\n",
       "      <td>207.0</td>\n",
       "    </tr>\n",
       "    <tr>\n",
       "      <th>1668</th>\n",
       "      <td>761</td>\n",
       "      <td>395.0</td>\n",
       "    </tr>\n",
       "  </tbody>\n",
       "</table>\n",
       "<p>1669 rows × 2 columns</p>\n",
       "</div>"
      ],
      "text/plain": [
       "      categoryid  parentid\n",
       "0           1016     213.0\n",
       "1            809     169.0\n",
       "2            570       9.0\n",
       "3           1691     885.0\n",
       "4            536    1691.0\n",
       "...          ...       ...\n",
       "1664          49    1125.0\n",
       "1665        1112     630.0\n",
       "1666        1336     745.0\n",
       "1667         689     207.0\n",
       "1668         761     395.0\n",
       "\n",
       "[1669 rows x 2 columns]"
      ]
     },
     "execution_count": 38,
     "metadata": {},
     "output_type": "execute_result"
    }
   ],
   "source": [
    "category_df"
   ]
  },
  {
   "cell_type": "markdown",
   "metadata": {},
   "source": [
    "Categoryid explain the relationship of different products with each other, like categoryid 1016 is a child of parentid 213."
   ]
  },
  {
   "cell_type": "code",
   "execution_count": 40,
   "metadata": {},
   "outputs": [],
   "source": [
    "item_properties_1_df = pd.read_csv('item_properties_part1.csv')"
   ]
  },
  {
   "cell_type": "code",
   "execution_count": 41,
   "metadata": {},
   "outputs": [
    {
     "data": {
      "text/html": [
       "<div>\n",
       "<style scoped>\n",
       "    .dataframe tbody tr th:only-of-type {\n",
       "        vertical-align: middle;\n",
       "    }\n",
       "\n",
       "    .dataframe tbody tr th {\n",
       "        vertical-align: top;\n",
       "    }\n",
       "\n",
       "    .dataframe thead th {\n",
       "        text-align: right;\n",
       "    }\n",
       "</style>\n",
       "<table border=\"1\" class=\"dataframe\">\n",
       "  <thead>\n",
       "    <tr style=\"text-align: right;\">\n",
       "      <th></th>\n",
       "      <th>timestamp</th>\n",
       "      <th>itemid</th>\n",
       "      <th>property</th>\n",
       "      <th>value</th>\n",
       "    </tr>\n",
       "  </thead>\n",
       "  <tbody>\n",
       "    <tr>\n",
       "      <th>0</th>\n",
       "      <td>1435460400000</td>\n",
       "      <td>460429</td>\n",
       "      <td>categoryid</td>\n",
       "      <td>1338</td>\n",
       "    </tr>\n",
       "    <tr>\n",
       "      <th>1</th>\n",
       "      <td>1441508400000</td>\n",
       "      <td>206783</td>\n",
       "      <td>888</td>\n",
       "      <td>1116713 960601 n277.200</td>\n",
       "    </tr>\n",
       "    <tr>\n",
       "      <th>2</th>\n",
       "      <td>1439089200000</td>\n",
       "      <td>395014</td>\n",
       "      <td>400</td>\n",
       "      <td>n552.000 639502 n720.000 424566</td>\n",
       "    </tr>\n",
       "    <tr>\n",
       "      <th>3</th>\n",
       "      <td>1431226800000</td>\n",
       "      <td>59481</td>\n",
       "      <td>790</td>\n",
       "      <td>n15360.000</td>\n",
       "    </tr>\n",
       "    <tr>\n",
       "      <th>4</th>\n",
       "      <td>1431831600000</td>\n",
       "      <td>156781</td>\n",
       "      <td>917</td>\n",
       "      <td>828513</td>\n",
       "    </tr>\n",
       "    <tr>\n",
       "      <th>...</th>\n",
       "      <td>...</td>\n",
       "      <td>...</td>\n",
       "      <td>...</td>\n",
       "      <td>...</td>\n",
       "    </tr>\n",
       "    <tr>\n",
       "      <th>10999994</th>\n",
       "      <td>1439694000000</td>\n",
       "      <td>86599</td>\n",
       "      <td>categoryid</td>\n",
       "      <td>618</td>\n",
       "    </tr>\n",
       "    <tr>\n",
       "      <th>10999995</th>\n",
       "      <td>1435460400000</td>\n",
       "      <td>153032</td>\n",
       "      <td>1066</td>\n",
       "      <td>n1020.000 424566</td>\n",
       "    </tr>\n",
       "    <tr>\n",
       "      <th>10999996</th>\n",
       "      <td>1440298800000</td>\n",
       "      <td>421788</td>\n",
       "      <td>888</td>\n",
       "      <td>35975 856003 37346</td>\n",
       "    </tr>\n",
       "    <tr>\n",
       "      <th>10999997</th>\n",
       "      <td>1437879600000</td>\n",
       "      <td>159792</td>\n",
       "      <td>400</td>\n",
       "      <td>n552.000 639502 n720.000 424566</td>\n",
       "    </tr>\n",
       "    <tr>\n",
       "      <th>10999998</th>\n",
       "      <td>1436065200000</td>\n",
       "      <td>464846</td>\n",
       "      <td>790</td>\n",
       "      <td>n410640.000</td>\n",
       "    </tr>\n",
       "  </tbody>\n",
       "</table>\n",
       "<p>10999999 rows × 4 columns</p>\n",
       "</div>"
      ],
      "text/plain": [
       "              timestamp  itemid    property                            value\n",
       "0         1435460400000  460429  categoryid                             1338\n",
       "1         1441508400000  206783         888          1116713 960601 n277.200\n",
       "2         1439089200000  395014         400  n552.000 639502 n720.000 424566\n",
       "3         1431226800000   59481         790                       n15360.000\n",
       "4         1431831600000  156781         917                           828513\n",
       "...                 ...     ...         ...                              ...\n",
       "10999994  1439694000000   86599  categoryid                              618\n",
       "10999995  1435460400000  153032        1066                 n1020.000 424566\n",
       "10999996  1440298800000  421788         888               35975 856003 37346\n",
       "10999997  1437879600000  159792         400  n552.000 639502 n720.000 424566\n",
       "10999998  1436065200000  464846         790                      n410640.000\n",
       "\n",
       "[10999999 rows x 4 columns]"
      ]
     },
     "execution_count": 41,
     "metadata": {},
     "output_type": "execute_result"
    }
   ],
   "source": [
    "item_properties_1_df"
   ]
  },
  {
   "cell_type": "markdown",
   "metadata": {},
   "source": [
    "timestamp is still the same Unix format.\n",
    "\n",
    "itemid is the unique item identifier.\n",
    "\n",
    "Property is the Item's attributes such as category id and availability while the rest are hashed for confidentiality purposes.\n",
    "\n",
    "Value is the item's property value like availability(one of the properties) is 1 if there is stock and 0 otherwise."
   ]
  },
  {
   "cell_type": "code",
   "execution_count": 43,
   "metadata": {},
   "outputs": [
    {
     "data": {
      "text/html": [
       "<div>\n",
       "<style scoped>\n",
       "    .dataframe tbody tr th:only-of-type {\n",
       "        vertical-align: middle;\n",
       "    }\n",
       "\n",
       "    .dataframe tbody tr th {\n",
       "        vertical-align: top;\n",
       "    }\n",
       "\n",
       "    .dataframe thead th {\n",
       "        text-align: right;\n",
       "    }\n",
       "</style>\n",
       "<table border=\"1\" class=\"dataframe\">\n",
       "  <thead>\n",
       "    <tr style=\"text-align: right;\">\n",
       "      <th></th>\n",
       "      <th>timestamp</th>\n",
       "      <th>itemid</th>\n",
       "      <th>property</th>\n",
       "      <th>value</th>\n",
       "    </tr>\n",
       "  </thead>\n",
       "  <tbody>\n",
       "    <tr>\n",
       "      <th>8582420</th>\n",
       "      <td>1431226800000</td>\n",
       "      <td>123973</td>\n",
       "      <td>categoryid</td>\n",
       "      <td>618</td>\n",
       "    </tr>\n",
       "    <tr>\n",
       "      <th>4818247</th>\n",
       "      <td>1431226800000</td>\n",
       "      <td>413487</td>\n",
       "      <td>categoryid</td>\n",
       "      <td>618</td>\n",
       "    </tr>\n",
       "    <tr>\n",
       "      <th>2842000</th>\n",
       "      <td>1431226800000</td>\n",
       "      <td>268139</td>\n",
       "      <td>categoryid</td>\n",
       "      <td>618</td>\n",
       "    </tr>\n",
       "    <tr>\n",
       "      <th>9943275</th>\n",
       "      <td>1431226800000</td>\n",
       "      <td>146905</td>\n",
       "      <td>categoryid</td>\n",
       "      <td>618</td>\n",
       "    </tr>\n",
       "    <tr>\n",
       "      <th>5769012</th>\n",
       "      <td>1431226800000</td>\n",
       "      <td>451095</td>\n",
       "      <td>categoryid</td>\n",
       "      <td>618</td>\n",
       "    </tr>\n",
       "  </tbody>\n",
       "</table>\n",
       "</div>"
      ],
      "text/plain": [
       "             timestamp  itemid    property value\n",
       "8582420  1431226800000  123973  categoryid   618\n",
       "4818247  1431226800000  413487  categoryid   618\n",
       "2842000  1431226800000  268139  categoryid   618\n",
       "9943275  1431226800000  146905  categoryid   618\n",
       "5769012  1431226800000  451095  categoryid   618"
      ]
     },
     "execution_count": 43,
     "metadata": {},
     "output_type": "execute_result"
    }
   ],
   "source": [
    "item_properties_1_df.loc[(item_properties_1_df.property == 'categoryid') & (item_properties_1_df.value == '618')].sort_values('timestamp').head()"
   ]
  },
  {
   "cell_type": "markdown",
   "metadata": {},
   "source": [
    "above is the number of items under category id 618."
   ]
  },
  {
   "cell_type": "markdown",
   "metadata": {},
   "source": [
    "# Customer Behaviour Exploration\n",
    "Its good to categorise coustomers in (a) how made transactions, (b) thoes who do not made transaxtion."
   ]
  },
  {
   "cell_type": "code",
   "execution_count": 44,
   "metadata": {},
   "outputs": [],
   "source": [
    "# all customers who made transaction.\n",
    "customer_purchased = events_df[events_df.transactionid.notnull()].visitorid.unique()"
   ]
  },
  {
   "cell_type": "code",
   "execution_count": 59,
   "metadata": {},
   "outputs": [
    {
     "data": {
      "text/plain": [
       "11719"
      ]
     },
     "execution_count": 59,
     "metadata": {},
     "output_type": "execute_result"
    }
   ],
   "source": [
    "len(customer_purchased)"
   ]
  },
  {
   "cell_type": "markdown",
   "metadata": {},
   "source": [
    "these many visitors made purchases.\n",
    "\n",
    "and their unique 'visitorid' is stored in customer_purchased"
   ]
  },
  {
   "cell_type": "code",
   "execution_count": 48,
   "metadata": {},
   "outputs": [],
   "source": [
    "all_customers = events_df.visitorid.unique()"
   ]
  },
  {
   "cell_type": "code",
   "execution_count": 49,
   "metadata": {},
   "outputs": [
    {
     "data": {
      "text/plain": [
       "1407580"
      ]
     },
     "execution_count": 49,
     "metadata": {},
     "output_type": "execute_result"
    }
   ],
   "source": [
    "len(all_customers)\n",
    "#all the visitors of the item."
   ]
  },
  {
   "cell_type": "code",
   "execution_count": 51,
   "metadata": {},
   "outputs": [],
   "source": [
    "customer_browsed = [x for x in all_customers if x not in customer_purchased]  # this code takes time"
   ]
  },
  {
   "cell_type": "code",
   "execution_count": 62,
   "metadata": {},
   "outputs": [
    {
     "data": {
      "text/plain": [
       "(list, 1395861)"
      ]
     },
     "execution_count": 62,
     "metadata": {},
     "output_type": "execute_result"
    }
   ],
   "source": [
    "type(customer_browsed),len(customer_browsed)"
   ]
  },
  {
   "cell_type": "code",
   "execution_count": 69,
   "metadata": {},
   "outputs": [],
   "source": [
    "customer_browsed = np.isin(all_customers,customer_purchased)  \n",
    "\n",
    "# another way of doing this.\n",
    "#customer_browsed = np.array(list(set(all_customers)- set(customer_purchased)))  \n",
    "\n",
    "\n",
    "# both these codes save time, "
   ]
  },
  {
   "cell_type": "code",
   "execution_count": 70,
   "metadata": {},
   "outputs": [
    {
     "data": {
      "text/plain": [
       "1407580"
      ]
     },
     "execution_count": 70,
     "metadata": {},
     "output_type": "execute_result"
    }
   ],
   "source": [
    "len(customer_browsed)"
   ]
  },
  {
   "cell_type": "markdown",
   "metadata": {},
   "source": [
    "these many customers have visited the item, but did not purchaced it."
   ]
  },
  {
   "cell_type": "markdown",
   "metadata": {},
   "source": [
    "REMEMBER: CUSTOMER_PURCHASED, CUSTOMER_BROWSED, ALL_CUSTOMERS.  ALL CONTAIN UNIQUE 'visitorid', in numpy array"
   ]
  },
  {
   "cell_type": "markdown",
   "metadata": {},
   "source": [
    "# Below is a snapshot of visitor id 599528 and their buying journey from viewing to transaction (purchase)"
   ]
  },
  {
   "cell_type": "code",
   "execution_count": 71,
   "metadata": {},
   "outputs": [
    {
     "data": {
      "text/html": [
       "<div>\n",
       "<style scoped>\n",
       "    .dataframe tbody tr th:only-of-type {\n",
       "        vertical-align: middle;\n",
       "    }\n",
       "\n",
       "    .dataframe tbody tr th {\n",
       "        vertical-align: top;\n",
       "    }\n",
       "\n",
       "    .dataframe thead th {\n",
       "        text-align: right;\n",
       "    }\n",
       "</style>\n",
       "<table border=\"1\" class=\"dataframe\">\n",
       "  <thead>\n",
       "    <tr style=\"text-align: right;\">\n",
       "      <th></th>\n",
       "      <th>timestamp</th>\n",
       "      <th>visitorid</th>\n",
       "      <th>event</th>\n",
       "      <th>itemid</th>\n",
       "      <th>transactionid</th>\n",
       "    </tr>\n",
       "  </thead>\n",
       "  <tbody>\n",
       "    <tr>\n",
       "      <th>16729</th>\n",
       "      <td>1433221896102</td>\n",
       "      <td>599528</td>\n",
       "      <td>view</td>\n",
       "      <td>356475</td>\n",
       "      <td>NaN</td>\n",
       "    </tr>\n",
       "    <tr>\n",
       "      <th>112</th>\n",
       "      <td>1433221941632</td>\n",
       "      <td>599528</td>\n",
       "      <td>addtocart</td>\n",
       "      <td>356475</td>\n",
       "      <td>NaN</td>\n",
       "    </tr>\n",
       "    <tr>\n",
       "      <th>130</th>\n",
       "      <td>1433222276276</td>\n",
       "      <td>599528</td>\n",
       "      <td>transaction</td>\n",
       "      <td>356475</td>\n",
       "      <td>4000.0</td>\n",
       "    </tr>\n",
       "    <tr>\n",
       "      <th>29505</th>\n",
       "      <td>1433297545235</td>\n",
       "      <td>599528</td>\n",
       "      <td>view</td>\n",
       "      <td>356475</td>\n",
       "      <td>NaN</td>\n",
       "    </tr>\n",
       "    <tr>\n",
       "      <th>114163</th>\n",
       "      <td>1433625010602</td>\n",
       "      <td>599528</td>\n",
       "      <td>view</td>\n",
       "      <td>356475</td>\n",
       "      <td>NaN</td>\n",
       "    </tr>\n",
       "    <tr>\n",
       "      <th>145498</th>\n",
       "      <td>1433731497480</td>\n",
       "      <td>599528</td>\n",
       "      <td>view</td>\n",
       "      <td>356475</td>\n",
       "      <td>NaN</td>\n",
       "    </tr>\n",
       "    <tr>\n",
       "      <th>187497</th>\n",
       "      <td>1433896449376</td>\n",
       "      <td>599528</td>\n",
       "      <td>view</td>\n",
       "      <td>356475</td>\n",
       "      <td>NaN</td>\n",
       "    </tr>\n",
       "    <tr>\n",
       "      <th>171995</th>\n",
       "      <td>1433896477794</td>\n",
       "      <td>599528</td>\n",
       "      <td>view</td>\n",
       "      <td>356475</td>\n",
       "      <td>NaN</td>\n",
       "    </tr>\n",
       "    <tr>\n",
       "      <th>197272</th>\n",
       "      <td>1433960259198</td>\n",
       "      <td>599528</td>\n",
       "      <td>view</td>\n",
       "      <td>356475</td>\n",
       "      <td>NaN</td>\n",
       "    </tr>\n",
       "    <tr>\n",
       "      <th>192471</th>\n",
       "      <td>1433960567121</td>\n",
       "      <td>599528</td>\n",
       "      <td>view</td>\n",
       "      <td>356475</td>\n",
       "      <td>NaN</td>\n",
       "    </tr>\n",
       "    <tr>\n",
       "      <th>198282</th>\n",
       "      <td>1433963102402</td>\n",
       "      <td>599528</td>\n",
       "      <td>view</td>\n",
       "      <td>356475</td>\n",
       "      <td>NaN</td>\n",
       "    </tr>\n",
       "    <tr>\n",
       "      <th>198625</th>\n",
       "      <td>1433973462396</td>\n",
       "      <td>599528</td>\n",
       "      <td>view</td>\n",
       "      <td>356475</td>\n",
       "      <td>NaN</td>\n",
       "    </tr>\n",
       "    <tr>\n",
       "      <th>244007</th>\n",
       "      <td>1434038132984</td>\n",
       "      <td>599528</td>\n",
       "      <td>view</td>\n",
       "      <td>356475</td>\n",
       "      <td>NaN</td>\n",
       "    </tr>\n",
       "    <tr>\n",
       "      <th>230066</th>\n",
       "      <td>1434078873027</td>\n",
       "      <td>599528</td>\n",
       "      <td>view</td>\n",
       "      <td>356475</td>\n",
       "      <td>NaN</td>\n",
       "    </tr>\n",
       "    <tr>\n",
       "      <th>234266</th>\n",
       "      <td>1434086434308</td>\n",
       "      <td>599528</td>\n",
       "      <td>view</td>\n",
       "      <td>356475</td>\n",
       "      <td>NaN</td>\n",
       "    </tr>\n",
       "    <tr>\n",
       "      <th>259779</th>\n",
       "      <td>1434115231654</td>\n",
       "      <td>599528</td>\n",
       "      <td>view</td>\n",
       "      <td>356475</td>\n",
       "      <td>NaN</td>\n",
       "    </tr>\n",
       "    <tr>\n",
       "      <th>1039541</th>\n",
       "      <td>1440527523642</td>\n",
       "      <td>599528</td>\n",
       "      <td>view</td>\n",
       "      <td>64279</td>\n",
       "      <td>NaN</td>\n",
       "    </tr>\n",
       "  </tbody>\n",
       "</table>\n",
       "</div>"
      ],
      "text/plain": [
       "             timestamp  visitorid        event  itemid  transactionid\n",
       "16729    1433221896102     599528         view  356475            NaN\n",
       "112      1433221941632     599528    addtocart  356475            NaN\n",
       "130      1433222276276     599528  transaction  356475         4000.0\n",
       "29505    1433297545235     599528         view  356475            NaN\n",
       "114163   1433625010602     599528         view  356475            NaN\n",
       "145498   1433731497480     599528         view  356475            NaN\n",
       "187497   1433896449376     599528         view  356475            NaN\n",
       "171995   1433896477794     599528         view  356475            NaN\n",
       "197272   1433960259198     599528         view  356475            NaN\n",
       "192471   1433960567121     599528         view  356475            NaN\n",
       "198282   1433963102402     599528         view  356475            NaN\n",
       "198625   1433973462396     599528         view  356475            NaN\n",
       "244007   1434038132984     599528         view  356475            NaN\n",
       "230066   1434078873027     599528         view  356475            NaN\n",
       "234266   1434086434308     599528         view  356475            NaN\n",
       "259779   1434115231654     599528         view  356475            NaN\n",
       "1039541  1440527523642     599528         view   64279            NaN"
      ]
     },
     "execution_count": 71,
     "metadata": {},
     "output_type": "execute_result"
    }
   ],
   "source": [
    "events_df[events_df.visitorid == 599528].sort_values('timestamp')"
   ]
  },
  {
   "cell_type": "markdown",
   "metadata": {},
   "source": [
    "\n",
    "Now, that we know about customer_purchased lets find out which items they purchased.\n"
   ]
  },
  {
   "cell_type": "code",
   "execution_count": 109,
   "metadata": {},
   "outputs": [],
   "source": [
    "purchased_items =[]\n",
    "for customer in customer_purchased:\n",
    "    purchased_items.append(list(events_df.loc[(events_df.visitorid == customer) & (events_df.transactionid.notnull())].itemid.unique()))"
   ]
  },
  {
   "cell_type": "markdown",
   "metadata": {},
   "source": [
    "purchased_items is a list which contain itemid of purchased items."
   ]
  },
  {
   "cell_type": "code",
   "execution_count": 110,
   "metadata": {},
   "outputs": [
    {
     "data": {
      "text/plain": [
       "11719"
      ]
     },
     "execution_count": 110,
     "metadata": {},
     "output_type": "execute_result"
    }
   ],
   "source": [
    "len(purchased_items)"
   ]
  },
  {
   "cell_type": "code",
   "execution_count": 117,
   "metadata": {},
   "outputs": [
    {
     "data": {
      "text/plain": [
       "[[329522],\n",
       " [164885],\n",
       " [384399],\n",
       " [385201],\n",
       " [315543],\n",
       " [1684],\n",
       " [19883],\n",
       " [288418],\n",
       " [379092],\n",
       " [243470],\n",
       " [189444],\n",
       " [190260],\n",
       " [78822, 251415],\n",
       " [115530],\n",
       " [102573],\n",
       " [821],\n",
       " [431447],\n",
       " [317435],\n",
       " [181202],\n",
       " [231565],\n",
       " [217218, 8641, 32227, 331159],\n",
       " [339808],\n",
       " [312728,\n",
       "  353436,\n",
       "  156552,\n",
       "  179290,\n",
       "  182157,\n",
       "  31058,\n",
       "  389200,\n",
       "  152262,\n",
       "  98425,\n",
       "  331644,\n",
       "  454183],\n",
       " [448494],\n",
       " [199348],\n",
       " [118024, 305742, 113641, 275344],\n",
       " [281480, 271268, 102408, 358731, 445813, 283037],\n",
       " [43485],\n",
       " [189764],\n",
       " [243980],\n",
       " [248614],\n",
       " [120098, 34269, 85771, 451501, 7574, 433543, 79801, 291964],\n",
       " [127722, 62800, 8641, 185211, 273747, 406121, 403477, 73377, 38437, 340327],\n",
       " [52539, 206218, 156767],\n",
       " [306328, 249161, 194643],\n",
       " [157438, 193554, 428040],\n",
       " [8724],\n",
       " [219821, 329443],\n",
       " [6364,\n",
       "  331159,\n",
       "  150889,\n",
       "  273555,\n",
       "  406071,\n",
       "  160272,\n",
       "  276282,\n",
       "  100188,\n",
       "  77844,\n",
       "  255908,\n",
       "  388800,\n",
       "  259710,\n",
       "  99003,\n",
       "  252400,\n",
       "  58123],\n",
       " [316753],\n",
       " [7943],\n",
       " [336359],\n",
       " [151471],\n",
       " [383396],\n",
       " [158575],\n",
       " [114121,\n",
       "  382649,\n",
       "  44001,\n",
       "  41422,\n",
       "  143643,\n",
       "  379390,\n",
       "  293038,\n",
       "  277139,\n",
       "  143418,\n",
       "  279618,\n",
       "  324462,\n",
       "  432925,\n",
       "  206925,\n",
       "  421884,\n",
       "  37254,\n",
       "  31644,\n",
       "  386635,\n",
       "  49196,\n",
       "  318333,\n",
       "  175662,\n",
       "  156522,\n",
       "  321005,\n",
       "  354484,\n",
       "  440677,\n",
       "  294267,\n",
       "  361777,\n",
       "  257412,\n",
       "  386476,\n",
       "  243171,\n",
       "  120098,\n",
       "  271823,\n",
       "  374092,\n",
       "  4538,\n",
       "  207815,\n",
       "  424515,\n",
       "  301721,\n",
       "  369158,\n",
       "  444593,\n",
       "  260546,\n",
       "  369093,\n",
       "  108618,\n",
       "  281103,\n",
       "  28212,\n",
       "  452361,\n",
       "  65580,\n",
       "  99907,\n",
       "  132418,\n",
       "  260256,\n",
       "  212743,\n",
       "  15564,\n",
       "  193507,\n",
       "  223739,\n",
       "  291767,\n",
       "  139515,\n",
       "  376793,\n",
       "  198209,\n",
       "  231819,\n",
       "  309778,\n",
       "  121540,\n",
       "  14932,\n",
       "  120446,\n",
       "  360790,\n",
       "  173253,\n",
       "  266825,\n",
       "  395823,\n",
       "  405649,\n",
       "  180009,\n",
       "  344071,\n",
       "  287467,\n",
       "  217387,\n",
       "  380484,\n",
       "  16200,\n",
       "  339917,\n",
       "  43526,\n",
       "  460553,\n",
       "  52039,\n",
       "  331725,\n",
       "  250908,\n",
       "  189926,\n",
       "  441620,\n",
       "  411886,\n",
       "  257767,\n",
       "  145197,\n",
       "  101747,\n",
       "  79097,\n",
       "  284045,\n",
       "  457906,\n",
       "  224614,\n",
       "  243376,\n",
       "  185305,\n",
       "  177636,\n",
       "  179033],\n",
       " [164035],\n",
       " [321984, 48115],\n",
       " [151320],\n",
       " [234255]]"
      ]
     },
     "execution_count": 117,
     "metadata": {},
     "output_type": "execute_result"
    }
   ],
   "source": [
    "purchased_items[100:150]"
   ]
  },
  {
   "cell_type": "markdown",
   "metadata": {},
   "source": [
    "above data is given in the form of list of lists.\n",
    "\n",
    "The inner lists are collection of itemid purchased by single costumer(possibly on different dates).\n",
    "\n",
    "This inner list of items can be used to suggest visitors(\"thoes who buy this also buy following\"). Provided the visitor buy any one item from this inner list."
   ]
  },
  {
   "cell_type": "code",
   "execution_count": 112,
   "metadata": {},
   "outputs": [],
   "source": [
    "# As purchase is made 'itemid' is pass through this function along with purchased_items(which is calculated above)\n",
    "def recommender_bought_bought(item_id, purchased_items):\n",
    "    recommender_list = []\n",
    "    for x in purchased_items:        # x(inner_list) is a purchased item\n",
    "        if item_id in x:             # purchased item is in x(inner_list)\n",
    "            recommender_list += x\n",
    "    recommender_list = list(set(recommender_list) - set([item_id]))\n",
    "    \n",
    "    return recommender_list"
   ]
  },
  {
   "cell_type": "code",
   "execution_count": 113,
   "metadata": {},
   "outputs": [
    {
     "data": {
      "text/plain": [
       "[105792, 200793, 12836, 80582, 380775, 15335, 400969, 25353, 237753, 317178]"
      ]
     },
     "execution_count": 113,
     "metadata": {},
     "output_type": "execute_result"
    }
   ],
   "source": [
    "# Check: recommender_bought_bought()\n",
    "recommender_bought_bought(302422, purchased_items)"
   ]
  },
  {
   "cell_type": "markdown",
   "metadata": {},
   "source": [
    "So now we can present to the visitor a list of the other items a customer previously bought along with what item the current visitor is viewing e.g. item number 302422"
   ]
  },
  {
   "cell_type": "code",
   "execution_count": null,
   "metadata": {},
   "outputs": [],
   "source": []
  }
 ],
 "metadata": {
  "kernelspec": {
   "display_name": "Python 3",
   "language": "python",
   "name": "python3"
  },
  "language_info": {
   "codemirror_mode": {
    "name": "ipython",
    "version": 3
   },
   "file_extension": ".py",
   "mimetype": "text/x-python",
   "name": "python",
   "nbconvert_exporter": "python",
   "pygments_lexer": "ipython3",
   "version": "3.8.5"
  }
 },
 "nbformat": 4,
 "nbformat_minor": 4
}
